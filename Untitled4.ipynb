{
  "nbformat": 4,
  "nbformat_minor": 0,
  "metadata": {
    "colab": {
      "name": "Untitled4.ipynb",
      "provenance": [],
      "authorship_tag": "ABX9TyP+/62dtETZz59Q2CKfn8XT",
      "include_colab_link": true
    },
    "kernelspec": {
      "name": "python3",
      "display_name": "Python 3"
    },
    "language_info": {
      "name": "python"
    }
  },
  "cells": [
    {
      "cell_type": "markdown",
      "metadata": {
        "id": "view-in-github",
        "colab_type": "text"
      },
      "source": [
        "<a href=\"https://colab.research.google.com/github/mohammadsedehi78/Spectral-clustering/blob/master/Untitled4.ipynb\" target=\"_parent\"><img src=\"https://colab.research.google.com/assets/colab-badge.svg\" alt=\"Open In Colab\"/></a>"
      ]
    },
    {
      "cell_type": "code",
      "metadata": {
        "id": "Q0piw7mATFYd"
      },
      "source": [
        "import numpy as np\n",
        "import pandas as pd\n",
        "from matplotlib import pyplot as plt\n",
        "from sklearn import cluster, datasets\n",
        "from sklearn.cluster import KMeans\n",
        "import random \n",
        "import math"
      ],
      "execution_count": 3,
      "outputs": []
    },
    {
      "cell_type": "code",
      "metadata": {
        "colab": {
          "base_uri": "https://localhost:8080/",
          "height": 282
        },
        "id": "tFyMHOemTHmJ",
        "outputId": "80713024-cc0e-42d0-c794-ce32ebb4ad43"
      },
      "source": [
        "X, y = datasets.make_moons(n_samples=110, noise=0.06,  random_state=0)\n",
        "plt.scatter(X[:,0], X[:,1])"
      ],
      "execution_count": 4,
      "outputs": [
        {
          "output_type": "execute_result",
          "data": {
            "text/plain": [
              "<matplotlib.collections.PathCollection at 0x7f7056c2dfd0>"
            ]
          },
          "metadata": {},
          "execution_count": 4
        },
        {
          "output_type": "display_data",
          "data": {
            "image/png": "[encoded data removed]",
            "text/plain": [
              "<Figure size 432x288 with 1 Axes>"
            ]
          },
          "metadata": {
            "needs_background": "light"
          }
        }
      ]
    },
    {
      "cell_type": "code",
      "metadata": {
        "id": "cSwhOVUyTLqQ",
        "colab": {
          "base_uri": "https://localhost:8080/"
        },
        "outputId": "6455c312-ab01-42ba-e2de-12afc824cf65"
      },
      "source": [
        " m= [random.randint(0,100),random.randint(0,100)]\n",
        "\n",
        "# print(X)\n",
        "a=np.arange(12).reshape(4,3)\n",
        "# b=np.append(a[0][0],np.array([2 , 2 ]))\n",
        "# a=np.amin(a, axis=0)\n",
        "print(type(a))\n",
        "print(a)\n",
        "def compare(x,y):\n",
        "  return x==y\n",
        "\n",
        "def comp(mid,midp):\n",
        "  xx = map(compare,mid , midp)\n",
        "  print(list(xx),\"ddd\")\n",
        "  \n",
        "\n"
      ],
      "execution_count": 43,
      "outputs": [
        {
          "output_type": "stream",
          "name": "stdout",
          "text": [
            "<class 'numpy.ndarray'>\n",
            "[[ 0  1  2]\n",
            " [ 3  4  5]\n",
            " [ 6  7  8]\n",
            " [ 9 10 11]]\n"
          ]
        }
      ]
    },
    {
      "cell_type": "code",
      "metadata": {
        "id": "DRVb5fsrUYiw"
      },
      "source": [
        "def kmean(X , n):\n",
        "    # print(\"start\")\n",
        "    mid=[]\n",
        "    midp=[]\n",
        "    minInColumns = np.amin(X, axis=0)\n",
        "    maxInColumns = np.amax(X, axis=0)\n",
        "    # print(minInColumns)\n",
        "    # print(random.randint(int(math.floor(minInColumns[0])),int(math.floor(maxInColumns[0]))))\n",
        "    for i in range (n) :\n",
        "        mid.append( np.array([random.randint(int(math.floor(minInColumns[0])),int(math.floor(maxInColumns[0]))),random.randint(int(math.floor(minInColumns[1])),int(math.floor(maxInColumns[1])))]))\n",
        "        midp.append( np.array([0,0]))\n",
        "     \n",
        "    clusterP=[]\n",
        "    print(mid)\n",
        "    print(midp)\n",
        "    comp(mid, midp )\n",
        "    print(\"dd\",\"dd\")\n",
        "    while all(mid!= midp ) :\n",
        "        print(\"mid!= midp\")\n",
        "        # print(\"mid\",mid)\n",
        "        # print(\"midp\",midp)\n",
        "        midp=mid\n",
        "        cluster=[]\n",
        "        for i in range (n) :\n",
        "          cluster.append([])\n",
        "        # print(\"cluster\",cluster)\n",
        "        # print(\"cluster\",len(cluster))\n",
        "        \n",
        "        \n",
        "        for p in X :\n",
        "          dist=[]\n",
        "          for i in range (n) :\n",
        "            # print(\"i\",i)\n",
        "            # print(\"mid\",mid)\n",
        "            dist.append(pow(pow(p[0]-mid[i][0],2)+pow(p[1]-mid[i][1],2),0.5))\n",
        "            # print(\"distinc\",dist)\n",
        "          # print(\"p\",p)\n",
        "          # print(\"dist.index(min(dist))\",dist)\n",
        "          cluster[dist.index(min(dist))].append(p)\n",
        "        for i in range (n) :\n",
        "          print(\"len(cluster[i])\",len(cluster[i]))\n",
        "        clusterp=cluster\n",
        "        mid=[]\n",
        "        for i in range (n):\n",
        "          # print(\"i\",i)\n",
        "          if len(cluster[i])>0:\n",
        "            print(\"cluster\",i,type(cluster[i]))\n",
        "            print(\"cluster\",i,np.array([float(sum(l))/len(l) for l in zip(*cluster[i])]))\n",
        "            mid.append( [float(sum(l))/len(l) for l in zip(*cluster[i])])\n",
        "          else:\n",
        "            mid.append( [random.randint(int(math.floor(minInColumns[0])),int(math.floor(maxInColumns[0]))),random.randint(int(math.floor(minInColumns[1])),int(math.floor(maxInColumns[1])))])\n",
        "    print(\"cluster\",type(cluster))\n",
        "    print(  np.array(cluster))\n",
        "    \n",
        "\n",
        "\n",
        "        "
      ],
      "execution_count": 13,
      "outputs": []
    },
    {
      "cell_type": "code",
      "metadata": {
        "colab": {
          "base_uri": "https://localhost:8080/",
          "height": 313
        },
        "id": "7P7xqEUPwXea",
        "outputId": "01fc4e5a-030f-4750-c0c9-fb633f5e19d1"
      },
      "source": [
        "r=kmean(X,3)"
      ],
      "execution_count": 14,
      "outputs": [
        {
          "output_type": "stream",
          "name": "stdout",
          "text": [
            "[array([0, 1]), array([ 1, -1]), array([-1, -1])]\n",
            "[array([0, 0]), array([0, 0]), array([0, 0])]\n"
          ]
        },
        {
          "output_type": "error",
          "ename": "NameError",
          "evalue": "ignored",
          "traceback": [
            "\u001b[0;31m---------------------------------------------------------------------------\u001b[0m",
            "\u001b[0;31mNameError\u001b[0m                                 Traceback (most recent call last)",
            "\u001b[0;32m<ipython-input-14-4fea01f54a95>\u001b[0m in \u001b[0;36m<module>\u001b[0;34m()\u001b[0m\n\u001b[0;32m----> 1\u001b[0;31m \u001b[0mr\u001b[0m\u001b[0;34m=\u001b[0m\u001b[0mkmean\u001b[0m\u001b[0;34m(\u001b[0m\u001b[0mX\u001b[0m\u001b[0;34m,\u001b[0m\u001b[0;36m3\u001b[0m\u001b[0;34m)\u001b[0m\u001b[0;34m\u001b[0m\u001b[0;34m\u001b[0m\u001b[0m\n\u001b[0m",
            "\u001b[0;32m<ipython-input-13-623f102453c6>\u001b[0m in \u001b[0;36mkmean\u001b[0;34m(X, n)\u001b[0m\n\u001b[1;32m     14\u001b[0m     \u001b[0mprint\u001b[0m\u001b[0;34m(\u001b[0m\u001b[0mmid\u001b[0m\u001b[0;34m)\u001b[0m\u001b[0;34m\u001b[0m\u001b[0;34m\u001b[0m\u001b[0m\n\u001b[1;32m     15\u001b[0m     \u001b[0mprint\u001b[0m\u001b[0;34m(\u001b[0m\u001b[0mmidp\u001b[0m\u001b[0;34m)\u001b[0m\u001b[0;34m\u001b[0m\u001b[0;34m\u001b[0m\u001b[0m\n\u001b[0;32m---> 16\u001b[0;31m     \u001b[0mcomp\u001b[0m\u001b[0;34m(\u001b[0m\u001b[0mmid\u001b[0m\u001b[0;34m,\u001b[0m \u001b[0mmidp\u001b[0m \u001b[0;34m)\u001b[0m\u001b[0;34m\u001b[0m\u001b[0;34m\u001b[0m\u001b[0m\n\u001b[0m\u001b[1;32m     17\u001b[0m     \u001b[0mprint\u001b[0m\u001b[0;34m(\u001b[0m\u001b[0;34m\"dd\"\u001b[0m\u001b[0;34m,\u001b[0m\u001b[0;34m\"dd\"\u001b[0m\u001b[0;34m)\u001b[0m\u001b[0;34m\u001b[0m\u001b[0;34m\u001b[0m\u001b[0m\n\u001b[1;32m     18\u001b[0m     \u001b[0;32mwhile\u001b[0m \u001b[0mall\u001b[0m\u001b[0;34m(\u001b[0m\u001b[0mmid\u001b[0m\u001b[0;34m!=\u001b[0m \u001b[0mmidp\u001b[0m \u001b[0;34m)\u001b[0m \u001b[0;34m:\u001b[0m\u001b[0;34m\u001b[0m\u001b[0;34m\u001b[0m\u001b[0m\n",
            "\u001b[0;31mNameError\u001b[0m: name 'comp' is not defined"
          ]
        }
      ]
    },
    {
      "cell_type": "code",
      "metadata": {
        "colab": {
          "base_uri": "https://localhost:8080/"
        },
        "id": "I6pz6NliwbeI",
        "outputId": "b1f76c13-71a8-4998-e356-558c209fbefb"
      },
      "source": [
        "# plt.scatter(cluster[0][:][0], cluster[0][:][1])\n",
        "print(\"cluster\",type(r))\n"
      ],
      "execution_count": 57,
      "outputs": [
        {
          "output_type": "stream",
          "name": "stdout",
          "text": [
            "cluster <class 'NoneType'>\n"
          ]
        }
      ]
    },
    {
      "cell_type": "code",
      "metadata": {
        "id": "_11Ho2vTlfJL"
      },
      "source": [
        ""
      ],
      "execution_count": null,
      "outputs": []
    }
  ]
}